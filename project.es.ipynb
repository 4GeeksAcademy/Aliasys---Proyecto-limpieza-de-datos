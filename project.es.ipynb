{
  "cells": [
    {
      "attachments": {},
      "cell_type": "markdown",
      "id": "innocent-university",
      "metadata": {},
      "source": [
        "# Limpieza de bienes raíces\n",
        "\n",
        "Este es un conjunto de datos (dataset) reales que fue descargado usando técnicas de web scraping. La data contiene registros de **Fotocasa**, el cual es uno de los sitios más populares de bienes raíces en España. Por favor no hagas esto (web scraping) a no ser que sea para propósitos académicos.\n",
        "\n",
        "El dataset fue descargado hace algunos años por Henry Navarro y en ningún caso se obtuvo beneficio económico de ello.\n",
        "\n",
        "Contiene miles de datos de casas reales publicadas en la web www.fotocasa.com. Tu objetivo es extraer tanta información como sea posible con el conocimiento que tienes hasta ahora de ciencia de datos, por ejemplo ¿cuál es la casa más cara en todo el dataset?\n",
        "\n",
        "Empecemos precisamente con esa pregunta... ¡Buena suerte!"
      ]
    },
    {
      "attachments": {},
      "cell_type": "markdown",
      "id": "multiple-glass",
      "metadata": {},
      "source": [
        "#### Ejercicio 00. Lee el dataset assets/real_estate.csv e intenta visualizar la tabla (★☆☆)"
      ]
    },
    {
      "cell_type": "code",
      "execution_count": 1,
      "id": "frank-heath",
      "metadata": {},
      "outputs": [
        {
          "data": {
            "text/html": [
              "<div>\n",
              "<style scoped>\n",
              "    .dataframe tbody tr th:only-of-type {\n",
              "        vertical-align: middle;\n",
              "    }\n",
              "\n",
              "    .dataframe tbody tr th {\n",
              "        vertical-align: top;\n",
              "    }\n",
              "\n",
              "    .dataframe thead th {\n",
              "        text-align: right;\n",
              "    }\n",
              "</style>\n",
              "<table border=\"1\" class=\"dataframe\">\n",
              "  <thead>\n",
              "    <tr style=\"text-align: right;\">\n",
              "      <th></th>\n",
              "      <th>Unnamed: 0</th>\n",
              "      <th>id_realEstates</th>\n",
              "      <th>isNew</th>\n",
              "      <th>realEstate_name</th>\n",
              "      <th>phone_realEstate</th>\n",
              "      <th>url_inmueble</th>\n",
              "      <th>rooms</th>\n",
              "      <th>bathrooms</th>\n",
              "      <th>surface</th>\n",
              "      <th>price</th>\n",
              "      <th>...</th>\n",
              "      <th>level4Id</th>\n",
              "      <th>level5Id</th>\n",
              "      <th>level6Id</th>\n",
              "      <th>level7Id</th>\n",
              "      <th>level8Id</th>\n",
              "      <th>accuracy</th>\n",
              "      <th>latitude</th>\n",
              "      <th>longitude</th>\n",
              "      <th>zipCode</th>\n",
              "      <th>customZone</th>\n",
              "    </tr>\n",
              "  </thead>\n",
              "  <tbody>\n",
              "    <tr>\n",
              "      <th>0</th>\n",
              "      <td>1</td>\n",
              "      <td>153771986</td>\n",
              "      <td>False</td>\n",
              "      <td>ferrari 57 inmobiliaria</td>\n",
              "      <td>912177526.0</td>\n",
              "      <td>https://www.fotocasa.es/es/comprar/vivienda/ma...</td>\n",
              "      <td>3.0</td>\n",
              "      <td>2.0</td>\n",
              "      <td>103.0</td>\n",
              "      <td>195000</td>\n",
              "      <td>...</td>\n",
              "      <td>0</td>\n",
              "      <td>0</td>\n",
              "      <td>0</td>\n",
              "      <td>0</td>\n",
              "      <td>0</td>\n",
              "      <td>0</td>\n",
              "      <td>40,2948276786438</td>\n",
              "      <td>-3,44402412135624</td>\n",
              "      <td>NaN</td>\n",
              "      <td>NaN</td>\n",
              "    </tr>\n",
              "    <tr>\n",
              "      <th>1</th>\n",
              "      <td>2</td>\n",
              "      <td>153867863</td>\n",
              "      <td>False</td>\n",
              "      <td>tecnocasa fuenlabrada ferrocarril</td>\n",
              "      <td>916358736.0</td>\n",
              "      <td>https://www.fotocasa.es/es/comprar/vivienda/ma...</td>\n",
              "      <td>3.0</td>\n",
              "      <td>1.0</td>\n",
              "      <td>NaN</td>\n",
              "      <td>89000</td>\n",
              "      <td>...</td>\n",
              "      <td>0</td>\n",
              "      <td>0</td>\n",
              "      <td>0</td>\n",
              "      <td>0</td>\n",
              "      <td>0</td>\n",
              "      <td>1</td>\n",
              "      <td>40,28674</td>\n",
              "      <td>-3,79351</td>\n",
              "      <td>NaN</td>\n",
              "      <td>NaN</td>\n",
              "    </tr>\n",
              "    <tr>\n",
              "      <th>2</th>\n",
              "      <td>3</td>\n",
              "      <td>153430440</td>\n",
              "      <td>False</td>\n",
              "      <td>look find boadilla</td>\n",
              "      <td>916350408.0</td>\n",
              "      <td>https://www.fotocasa.es/es/comprar/vivienda/ma...</td>\n",
              "      <td>2.0</td>\n",
              "      <td>2.0</td>\n",
              "      <td>99.0</td>\n",
              "      <td>390000</td>\n",
              "      <td>...</td>\n",
              "      <td>0</td>\n",
              "      <td>0</td>\n",
              "      <td>0</td>\n",
              "      <td>0</td>\n",
              "      <td>0</td>\n",
              "      <td>0</td>\n",
              "      <td>40,4115646786438</td>\n",
              "      <td>-3,90662252135624</td>\n",
              "      <td>NaN</td>\n",
              "      <td>NaN</td>\n",
              "    </tr>\n",
              "    <tr>\n",
              "      <th>3</th>\n",
              "      <td>4</td>\n",
              "      <td>152776331</td>\n",
              "      <td>False</td>\n",
              "      <td>tecnocasa fuenlabrada ferrocarril</td>\n",
              "      <td>916358736.0</td>\n",
              "      <td>https://www.fotocasa.es/es/comprar/vivienda/ma...</td>\n",
              "      <td>3.0</td>\n",
              "      <td>1.0</td>\n",
              "      <td>86.0</td>\n",
              "      <td>89000</td>\n",
              "      <td>...</td>\n",
              "      <td>0</td>\n",
              "      <td>0</td>\n",
              "      <td>0</td>\n",
              "      <td>0</td>\n",
              "      <td>0</td>\n",
              "      <td>0</td>\n",
              "      <td>40,2853785786438</td>\n",
              "      <td>-3,79508142135624</td>\n",
              "      <td>NaN</td>\n",
              "      <td>NaN</td>\n",
              "    </tr>\n",
              "    <tr>\n",
              "      <th>4</th>\n",
              "      <td>5</td>\n",
              "      <td>153180188</td>\n",
              "      <td>False</td>\n",
              "      <td>ferrari 57 inmobiliaria</td>\n",
              "      <td>912177526.0</td>\n",
              "      <td>https://www.fotocasa.es/es/comprar/vivienda/ma...</td>\n",
              "      <td>2.0</td>\n",
              "      <td>2.0</td>\n",
              "      <td>106.0</td>\n",
              "      <td>172000</td>\n",
              "      <td>...</td>\n",
              "      <td>0</td>\n",
              "      <td>0</td>\n",
              "      <td>0</td>\n",
              "      <td>0</td>\n",
              "      <td>0</td>\n",
              "      <td>0</td>\n",
              "      <td>40,2998774864376</td>\n",
              "      <td>-3,45226301356237</td>\n",
              "      <td>NaN</td>\n",
              "      <td>NaN</td>\n",
              "    </tr>\n",
              "    <tr>\n",
              "      <th>...</th>\n",
              "      <td>...</td>\n",
              "      <td>...</td>\n",
              "      <td>...</td>\n",
              "      <td>...</td>\n",
              "      <td>...</td>\n",
              "      <td>...</td>\n",
              "      <td>...</td>\n",
              "      <td>...</td>\n",
              "      <td>...</td>\n",
              "      <td>...</td>\n",
              "      <td>...</td>\n",
              "      <td>...</td>\n",
              "      <td>...</td>\n",
              "      <td>...</td>\n",
              "      <td>...</td>\n",
              "      <td>...</td>\n",
              "      <td>...</td>\n",
              "      <td>...</td>\n",
              "      <td>...</td>\n",
              "      <td>...</td>\n",
              "      <td>...</td>\n",
              "    </tr>\n",
              "    <tr>\n",
              "      <th>15330</th>\n",
              "      <td>15331</td>\n",
              "      <td>153901377</td>\n",
              "      <td>False</td>\n",
              "      <td>infocasa consulting</td>\n",
              "      <td>911360461.0</td>\n",
              "      <td>https://www.fotocasa.es/es/comprar/vivienda/ma...</td>\n",
              "      <td>2.0</td>\n",
              "      <td>1.0</td>\n",
              "      <td>96.0</td>\n",
              "      <td>259470</td>\n",
              "      <td>...</td>\n",
              "      <td>0</td>\n",
              "      <td>0</td>\n",
              "      <td>0</td>\n",
              "      <td>0</td>\n",
              "      <td>0</td>\n",
              "      <td>0</td>\n",
              "      <td>40,45416</td>\n",
              "      <td>-3,70286</td>\n",
              "      <td>NaN</td>\n",
              "      <td>NaN</td>\n",
              "    </tr>\n",
              "    <tr>\n",
              "      <th>15331</th>\n",
              "      <td>15332</td>\n",
              "      <td>150394373</td>\n",
              "      <td>False</td>\n",
              "      <td>inmobiliaria pulpon</td>\n",
              "      <td>912788039.0</td>\n",
              "      <td>https://www.fotocasa.es/es/comprar/vivienda/ma...</td>\n",
              "      <td>3.0</td>\n",
              "      <td>1.0</td>\n",
              "      <td>150.0</td>\n",
              "      <td>165000</td>\n",
              "      <td>...</td>\n",
              "      <td>0</td>\n",
              "      <td>0</td>\n",
              "      <td>0</td>\n",
              "      <td>0</td>\n",
              "      <td>0</td>\n",
              "      <td>0</td>\n",
              "      <td>40,36652</td>\n",
              "      <td>-3,48951</td>\n",
              "      <td>NaN</td>\n",
              "      <td>NaN</td>\n",
              "    </tr>\n",
              "    <tr>\n",
              "      <th>15332</th>\n",
              "      <td>15333</td>\n",
              "      <td>153901397</td>\n",
              "      <td>False</td>\n",
              "      <td>tecnocasa torrelodones</td>\n",
              "      <td>912780348.0</td>\n",
              "      <td>https://www.fotocasa.es/es/comprar/vivienda/ma...</td>\n",
              "      <td>4.0</td>\n",
              "      <td>2.0</td>\n",
              "      <td>175.0</td>\n",
              "      <td>495000</td>\n",
              "      <td>...</td>\n",
              "      <td>0</td>\n",
              "      <td>0</td>\n",
              "      <td>0</td>\n",
              "      <td>0</td>\n",
              "      <td>0</td>\n",
              "      <td>0</td>\n",
              "      <td>40,57444</td>\n",
              "      <td>-3,92124</td>\n",
              "      <td>NaN</td>\n",
              "      <td>NaN</td>\n",
              "    </tr>\n",
              "    <tr>\n",
              "      <th>15333</th>\n",
              "      <td>15334</td>\n",
              "      <td>152607440</td>\n",
              "      <td>False</td>\n",
              "      <td>inmobiliaria pulpon</td>\n",
              "      <td>912788039.0</td>\n",
              "      <td>https://www.fotocasa.es/es/comprar/vivienda/ma...</td>\n",
              "      <td>3.0</td>\n",
              "      <td>2.0</td>\n",
              "      <td>101.0</td>\n",
              "      <td>195000</td>\n",
              "      <td>...</td>\n",
              "      <td>0</td>\n",
              "      <td>0</td>\n",
              "      <td>0</td>\n",
              "      <td>0</td>\n",
              "      <td>0</td>\n",
              "      <td>0</td>\n",
              "      <td>40,36967</td>\n",
              "      <td>-3,48105</td>\n",
              "      <td>NaN</td>\n",
              "      <td>NaN</td>\n",
              "    </tr>\n",
              "    <tr>\n",
              "      <th>15334</th>\n",
              "      <td>15335</td>\n",
              "      <td>153901356</td>\n",
              "      <td>False</td>\n",
              "      <td>infocasa consulting</td>\n",
              "      <td>911360461.0</td>\n",
              "      <td>https://www.fotocasa.es/es/comprar/vivienda/ma...</td>\n",
              "      <td>3.0</td>\n",
              "      <td>2.0</td>\n",
              "      <td>152.0</td>\n",
              "      <td>765000</td>\n",
              "      <td>...</td>\n",
              "      <td>0</td>\n",
              "      <td>0</td>\n",
              "      <td>0</td>\n",
              "      <td>0</td>\n",
              "      <td>0</td>\n",
              "      <td>0</td>\n",
              "      <td>40,45773</td>\n",
              "      <td>-3,69068</td>\n",
              "      <td>NaN</td>\n",
              "      <td>NaN</td>\n",
              "    </tr>\n",
              "  </tbody>\n",
              "</table>\n",
              "<p>15335 rows × 37 columns</p>\n",
              "</div>"
            ],
            "text/plain": [
              "       Unnamed: 0  id_realEstates  isNew                    realEstate_name  \\\n",
              "0               1       153771986  False            ferrari 57 inmobiliaria   \n",
              "1               2       153867863  False  tecnocasa fuenlabrada ferrocarril   \n",
              "2               3       153430440  False                 look find boadilla   \n",
              "3               4       152776331  False  tecnocasa fuenlabrada ferrocarril   \n",
              "4               5       153180188  False            ferrari 57 inmobiliaria   \n",
              "...           ...             ...    ...                                ...   \n",
              "15330       15331       153901377  False                infocasa consulting   \n",
              "15331       15332       150394373  False                inmobiliaria pulpon   \n",
              "15332       15333       153901397  False             tecnocasa torrelodones   \n",
              "15333       15334       152607440  False                inmobiliaria pulpon   \n",
              "15334       15335       153901356  False                infocasa consulting   \n",
              "\n",
              "       phone_realEstate                                       url_inmueble  \\\n",
              "0           912177526.0  https://www.fotocasa.es/es/comprar/vivienda/ma...   \n",
              "1           916358736.0  https://www.fotocasa.es/es/comprar/vivienda/ma...   \n",
              "2           916350408.0  https://www.fotocasa.es/es/comprar/vivienda/ma...   \n",
              "3           916358736.0  https://www.fotocasa.es/es/comprar/vivienda/ma...   \n",
              "4           912177526.0  https://www.fotocasa.es/es/comprar/vivienda/ma...   \n",
              "...                 ...                                                ...   \n",
              "15330       911360461.0  https://www.fotocasa.es/es/comprar/vivienda/ma...   \n",
              "15331       912788039.0  https://www.fotocasa.es/es/comprar/vivienda/ma...   \n",
              "15332       912780348.0  https://www.fotocasa.es/es/comprar/vivienda/ma...   \n",
              "15333       912788039.0  https://www.fotocasa.es/es/comprar/vivienda/ma...   \n",
              "15334       911360461.0  https://www.fotocasa.es/es/comprar/vivienda/ma...   \n",
              "\n",
              "       rooms  bathrooms  surface   price  ... level4Id level5Id level6Id  \\\n",
              "0        3.0        2.0    103.0  195000  ...        0        0        0   \n",
              "1        3.0        1.0      NaN   89000  ...        0        0        0   \n",
              "2        2.0        2.0     99.0  390000  ...        0        0        0   \n",
              "3        3.0        1.0     86.0   89000  ...        0        0        0   \n",
              "4        2.0        2.0    106.0  172000  ...        0        0        0   \n",
              "...      ...        ...      ...     ...  ...      ...      ...      ...   \n",
              "15330    2.0        1.0     96.0  259470  ...        0        0        0   \n",
              "15331    3.0        1.0    150.0  165000  ...        0        0        0   \n",
              "15332    4.0        2.0    175.0  495000  ...        0        0        0   \n",
              "15333    3.0        2.0    101.0  195000  ...        0        0        0   \n",
              "15334    3.0        2.0    152.0  765000  ...        0        0        0   \n",
              "\n",
              "      level7Id level8Id accuracy          latitude          longitude zipCode  \\\n",
              "0            0        0        0  40,2948276786438  -3,44402412135624     NaN   \n",
              "1            0        0        1          40,28674           -3,79351     NaN   \n",
              "2            0        0        0  40,4115646786438  -3,90662252135624     NaN   \n",
              "3            0        0        0  40,2853785786438  -3,79508142135624     NaN   \n",
              "4            0        0        0  40,2998774864376  -3,45226301356237     NaN   \n",
              "...        ...      ...      ...               ...                ...     ...   \n",
              "15330        0        0        0          40,45416           -3,70286     NaN   \n",
              "15331        0        0        0          40,36652           -3,48951     NaN   \n",
              "15332        0        0        0          40,57444           -3,92124     NaN   \n",
              "15333        0        0        0          40,36967           -3,48105     NaN   \n",
              "15334        0        0        0          40,45773           -3,69068     NaN   \n",
              "\n",
              "      customZone  \n",
              "0            NaN  \n",
              "1            NaN  \n",
              "2            NaN  \n",
              "3            NaN  \n",
              "4            NaN  \n",
              "...          ...  \n",
              "15330        NaN  \n",
              "15331        NaN  \n",
              "15332        NaN  \n",
              "15333        NaN  \n",
              "15334        NaN  \n",
              "\n",
              "[15335 rows x 37 columns]"
            ]
          },
          "execution_count": 1,
          "metadata": {},
          "output_type": "execute_result"
        }
      ],
      "source": [
        "import pandas as pd\n",
        "import matplotlib.pyplot as plt\n",
        "import numpy as np\n",
        "from sklearn.preprocessing import MinMaxScaler\n",
        "\n",
        "# Este archivo CSV contiene puntos y comas en lugar de comas como separadores\n",
        "ds = pd.read_csv('assets/real_estate.csv', sep=';')\n",
        "ds"
      ]
    },
    {
      "attachments": {},
      "cell_type": "markdown",
      "id": "latin-guest",
      "metadata": {},
      "source": [
        "#### Ejercicio 01. ¿Cuál es la casa más cara en todo el dataset? (★☆☆)\n",
        "\n",
        "Imprime la dirección y el precio de la casa seleccionada. Por ejemplo:\n",
        "\n",
        "`La casa con dirección en Calle del Prado, Nº20 es la más cara y su precio es de 5000000 USD`"
      ]
    },
    {
      "cell_type": "code",
      "execution_count": 2,
      "id": "developing-optimum",
      "metadata": {},
      "outputs": [
        {
          "name": "stdout",
          "output_type": "stream",
          "text": [
            "La casa mas cara esta en El Escorial y su precio es 8500000 EUR\n"
          ]
        }
      ],
      "source": [
        "# TODO\n",
        "# Miramos cual es la casa mas cara\n",
        "casa_mas_cara = ds.loc[ds['price'].idxmax()]\n",
        "# Imprimimos la direccion de la casa mas cara y su precio\n",
        "print(f\"La casa mas cara esta en {casa_mas_cara['address']} y su precio es {casa_mas_cara['price']} EUR\")\n"
      ]
    },
    {
      "attachments": {},
      "cell_type": "markdown",
      "id": "lesser-cosmetic",
      "metadata": {},
      "source": [
        "#### Ejercicio 02. ¿Cuál es la casa más barata del dataset? (★☆☆)\n",
        "\n",
        "Imprime la dirección y el precio de la casa seleccionada. Por ejemplo:\n",
        "\n",
        "`La casa con dirección en Calle Alcalá, Nº58 es la más barata y su precio es de 12000 USD`"
      ]
    },
    {
      "cell_type": "code",
      "execution_count": 3,
      "id": "lovely-oasis",
      "metadata": {},
      "outputs": [
        {
          "name": "stdout",
          "output_type": "stream",
          "text": [
            "La casa mas cara esta en Parla y su precio es 0 EUR\n"
          ]
        }
      ],
      "source": [
        "# TODO\n",
        "# Miramos cual es la casa mas barata\n",
        "casa_mas_barata = ds.loc[ds[\"price\"].idxmin()]\n",
        "# Imprimimos la direccion de la casa mas cara y su precio\n",
        "print(f\"La casa mas cara esta en {casa_mas_barata['address']} y su precio es {casa_mas_barata['price']} EUR\")\n",
        "\n",
        "\n"
      ]
    },
    {
      "attachments": {},
      "cell_type": "markdown",
      "id": "compliant-fellowship",
      "metadata": {},
      "source": [
        "#### Ejercicio 03. ¿Cuál es la casa más grande y la más pequeña del dataset? (★☆☆)\n",
        "\n",
        "Imprime la dirección y el área de las casas seleccionadas. Por ejemplo:\n",
        "\n",
        "`La casa más grande está ubicada en Calle Gran Vía, Nº38 y su superficie es de 5000 metros`\n",
        "\n",
        "`La casa más pequeña está ubicada en Calle Mayor, Nº12 y su superficie es de 200 metros`"
      ]
    },
    {
      "cell_type": "code",
      "execution_count": 4,
      "id": "every-tiffany",
      "metadata": {},
      "outputs": [
        {
          "name": "stdout",
          "output_type": "stream",
          "text": [
            "La casa mas grande esta en Sevilla la Nueva y su superficie es 249000.0 metros\n",
            "La casa mas pequena esta en Calle Amparo,  Madrid Capital y su superficie es 15.0 metros\n"
          ]
        }
      ],
      "source": [
        "# TODO\n",
        "# Miramos cual es la casa mas grande\n",
        "casa_mas_grande = ds.loc[ds[\"surface\"].idxmax()]\n",
        "# Imprimimmos la ubicacion de la casa mas grande y su superficie\n",
        "print(f\"La casa mas grande esta en {casa_mas_grande['address']} y su superficie es {casa_mas_grande['surface']} metros\")\n",
        "\n",
        "\n",
        "# Miramos cual es la casa mas pequeña\n",
        "casa_mas_pequena = ds.loc[ds[\"surface\"].idxmin()]\n",
        "# Imprimimos la ubicacion de la casamas pequeña y su superficie\n",
        "print(f\"La casa mas pequena esta en {casa_mas_pequena['address']} y su superficie es {casa_mas_pequena['surface']} metros\")\n"
      ]
    },
    {
      "attachments": {},
      "cell_type": "markdown",
      "id": "danish-spirit",
      "metadata": {},
      "source": [
        "#### Ejercicio 04. ¿Cuantas poblaciones (columna level5) contiene el dataset? (★☆☆)\n",
        "\n",
        "Imprime el nombre de las poblaciones separadas por coma. Por ejemplo:\n",
        "\n",
        "`> print(populations)`\n",
        "\n",
        "`population1, population2, population3, ...`"
      ]
    },
    {
      "cell_type": "code",
      "execution_count": 5,
      "id": "exciting-accreditation",
      "metadata": {},
      "outputs": [
        {
          "name": "stdout",
          "output_type": "stream",
          "text": [
            "Número de poblaciones únicas: 168\n",
            "Poblaciones: Arganda del Rey, Fuenlabrada, Boadilla del Monte, Las Rozas de Madrid,  Madrid Capital, Villaviciosa de Odón, Pinto, Valdemoro, Navalcarnero, Pozuelo de Alarcón, Torrejón de Ardoz, Navalagamella, San Sebastián de los Reyes, Rivas-vaciamadrid, Alpedrete, Móstoles, San Fernando de Henares, Coslada, Becerril de la Sierra, Alcalá de Henares, Chinchón, Parla, Alcorcón, El Escorial, Leganés, Pedrezuela, Majadahonda, Villanueva de la Cañada, Villanueva del Pardillo, Torrelodones, Moralzarzal, Mejorada del Campo, Aranjuez, Corpa, Getafe, Velilla de San Antonio, Sevilla la Nueva, San Martín de la Vega, Villalbilla, Collado Villalba, Alcobendas, El Molar (Madrid), Moraleja de Enmedio, Algete, Campo Real, Torrejón de la Calzada, Colmenar Viejo, Valdemorillo, Fuente El Saz de Jarama, Tres Cantos, Arroyomolinos (Madrid), Griñón, Paracuellos de Jarama, Guadarrama, Titulcia, Galapagar, Collado Mediano, Los Molinos, San Lorenzo de El Escorial, Loeches, San Martín de Valdeiglesias, Navas del Rey, Bustarviejo, Manzanares El Real, Carabaña, Casarrubuelos, Cercedilla, Fresnedillas de la Oliva, Valdemaqueda, Robledo de Chavela, Miraflores de la Sierra, Humanes de Madrid, Valdetorres de Jarama, San Agustín del Guadalix, Ciempozuelos, Camarma de Esteruelas, Torres de la Alameda, Talamanca de Jarama, El Atazar, Hoyo de Manzanares, El Boalo - Cerceda – Mataelpino, El Álamo, Valdilecha, Valdeolmos-Alalpardo, Guadalix de la Sierra, Belmonte de Tajo, El Vellón, Brunete, Redueña, Morata de Tajuña, Tielmes, Gargantilla del Lozoya, Meco, Venturada, Quijorna, Cenicientos, Torrejón de Velasco, Navacerrada, Santa María de la Alameda, Orusco de Tajuña, Daganzo de Arriba, Villamanta, Anchuelo, Valdaracete, Ajalvir, Los Santos de la Humosa, Villamanrique de Tajo, Colmenar de Oreja, Villa del Prado, Fuentidueña de Tajo, Colmenar del Arroyo, Valdelaguna, Cubas de la Sagra, Valdeavero, Aldea del Fresno, Ribatejada, Torrelaguna, Batres, Pezuela de las Torres, Colmenarejo, Serranillos del Valle, Cobeña, Soto del Real, El Berrueco, Villanueva de Perales, Fresno de Torote - Serracines, Pozuelo del Rey, Pelayos de la Presa, La Cabrera, Nuevo Baztán, Perales de Tajuña, Villaconejos, Villarejo de Salvanés, Cadalso de los Vidrios, Santorcaz, Madarcos, Garganta de los Montes, Puentes Viejas, Torremocha de Jarama, Valdemanco, Braojos, Lozoyuela-navas-sieteiglesias, Piñuécar-gandullas, Valdepiélagos, Valverde de Alcalá, Villar del Olmo, Villamantilla, Horcajo de la Sierra, Gascones, Zarzalejo, Villavieja del Lozoya, Brea de Tajo, Estremera, Chapinería, Navarredonda, Patones, Ambite, Navalafuente, Lozoya, Canencia, Cabanillas de la Sierra, Buitrago del Lozoya, Fresno de Torote, Robregordo, Pinilla del Valle, Rascafría, La Hiruela, Montejo de la Sierra\n"
          ]
        }
      ],
      "source": [
        "# TODO\n",
        "# Buscamos cuantas poblaciones tenemos en el archivo\n",
        "poblaciones_unicas = ds['level5'].unique()\n",
        "# Enumeramos nuestras poblaciones \n",
        "numero_poblaciones = len(poblaciones_unicas)\n",
        "# Imprimimos las poblaciones de manera alinieada y con comas\n",
        "print(\"Número de poblaciones únicas:\", numero_poblaciones)\n",
        "print(\"Poblaciones:\", \", \".join(poblaciones_unicas))"
      ]
    },
    {
      "attachments": {},
      "cell_type": "markdown",
      "id": "crazy-blame",
      "metadata": {},
      "source": [
        "#### Ejercicio 05. ¿El dataset contiene valores no admitidos (NAs)? (★☆☆)\n",
        "\n",
        "Imprima un booleano (`True` o `False`) seguido de la fila/columna que contiene el NAs."
      ]
    },
    {
      "cell_type": "code",
      "execution_count": 5,
      "id": "transparent-poetry",
      "metadata": {},
      "outputs": [
        {
          "name": "stdout",
          "output_type": "stream",
          "text": [
            "El conjunto de datos contiene valores no admitidos: True\n",
            "Columnas con valores no admitidos: ['realEstate_name', 'phone_realEstate', 'rooms', 'bathrooms', 'surface', 'description', 'level4', 'level6', 'level7', 'level8', 'zipCode', 'customZone']\n"
          ]
        }
      ],
      "source": [
        "# TODO\n",
        "# Comprobamos si tienen ciertos valores no admitidos\n",
        "valores_no_admitidos = ds.isnull().any().any()\n",
        "# Imprimimos si tienen valores admitidos\n",
        "print(\"El conjunto de datos contiene valores no admitidos:\", valores_no_admitidos)\n",
        "# Imprimimos las columnas con valores no admitidos\n",
        "columnas_con_no_admitidos = ds.columns[ds.isnull().any()]\n",
        "# Imprimimos las columnas con valores no admitidos\n",
        "print(\"Columnas con valores no admitidos:\", columnas_con_no_admitidos.tolist())\n"
      ]
    },
    {
      "attachments": {},
      "cell_type": "markdown",
      "id": "italic-hydrogen",
      "metadata": {},
      "source": [
        "#### Ejercicio 06. Elimina los NAs del dataset, si aplica (★★☆)\n",
        "\n",
        "Imprima una comparación entre las dimensiones del DataFrame original versus el DataFrame después de las eliminaciones.\n"
      ]
    },
    {
      "cell_type": "code",
      "execution_count": 24,
      "id": "administrative-roads",
      "metadata": {},
      "outputs": [
        {
          "name": "stdout",
          "output_type": "stream",
          "text": [
            "Tamaño original del DataFrame: (15335, 38)\n",
            "Tamaño del DataFrame limpio: (15335, 25)\n",
            "Número de filas eliminadas: 0\n"
          ]
        }
      ],
      "source": [
        "# TODO\n",
        "#Comprobamos el tamano original del Dataframe\n",
        "tamano_original = ds.shape\n",
        "#Creamos una limpeza de dicho Dataframe\n",
        "Limpieza_ds = ds.dropna(axis=1, how='any') \n",
        "#Comprobamos su tamano una vez limpio\n",
        "tamano_limpio = Limpieza_ds.shape\n",
        "\n",
        "#imprimimos todos los valores\n",
        "print(\"Tamaño original del DataFrame:\", tamano_original)\n",
        "print(\"Tamaño del DataFrame limpio:\", tamano_limpio)\n",
        "print(\"Número de filas eliminadas:\", tamano_original[0] - tamano_limpio[0]) "
      ]
    },
    {
      "attachments": {},
      "cell_type": "markdown",
      "id": "middle-china",
      "metadata": {},
      "source": [
        "#### Ejercicio 07. ¿Cuál la media de precios en la población (columna level5) de \"Arroyomolinos (Madrid)\"? (★★☆)\n",
        "\n",
        "Imprima el valor obtenido."
      ]
    },
    {
      "cell_type": "code",
      "execution_count": 23,
      "id": "nuclear-belief",
      "metadata": {},
      "outputs": [
        {
          "name": "stdout",
          "output_type": "stream",
          "text": [
            "Precio promedio en Arroyomolinos (Madrid): 294541.59854014596 euros\n"
          ]
        }
      ],
      "source": [
        "# TODO\n",
        "#Comprobamos el precio de Arroyomolinos \n",
        "arroyomolinos = ds[ds['level5'] == 'Arroyomolinos (Madrid)'] \n",
        "# Hacemos la media de los precios\n",
        "precio_promedio_arroyomolinos = arroyomolinos['price'].mean()\n",
        "#Impimimos el resultado\n",
        "print(\"Precio promedio en Arroyomolinos (Madrid):\", precio_promedio_arroyomolinos, \"euros\")#Comprobamos el precio de Arroyomolinos "
      ]
    },
    {
      "attachments": {},
      "cell_type": "markdown",
      "id": "concerned-radical",
      "metadata": {},
      "source": [
        "#### Ejercicio 08. Trazar el histograma de los precios para la población (level5 column) de \"Arroyomolinos (Madrid)\" y explica qué observas (★★☆)\n",
        "\n",
        "Imprime el histograma de los precios y escribe en la celda del Markdown un breve análisis del trazado.\n"
      ]
    },
    {
      "cell_type": "code",
      "execution_count": 22,
      "id": "sudden-message",
      "metadata": {},
      "outputs": [
        {
          "data": {
            "image/png": "[encoded data removed]",
            "text/plain": [
              "<Figure size 640x480 with 1 Axes>"
            ]
          },
          "metadata": {},
          "output_type": "display_data"
        }
      ],
      "source": [
        "# TODO: Code\n",
        "#Comprobamos los precios de Arroyomolinos\n",
        "arroyomolinos = ds[ds['level5'] == 'Arroyomolinos (Madrid)'] \n",
        "# Trazamos el analisis\n",
        "plt.hist(arroyomolinos['price'], bins=20) \n",
        "plt.xlabel(\"Precio\")\n",
        "plt.ylabel(\"Frecuencia\")\n",
        "plt.title(\"Histograma de Precios en Arroyomolinos (Madrid)\")\n",
        "plt.legend([\"Arroyomolinos (Madrid)\"])\n",
        "# Mostramos el grafico\n",
        "plt.show() \n"
      ]
    },
    {
      "attachments": {},
      "cell_type": "markdown",
      "id": "impressed-combination",
      "metadata": {},
      "source": [
        "**TODO: Markdown**. Para escribir aquí, haz doble clic en esta celda, elimina este contenido y coloca lo que quieras escribir. Luego ejecuta la celda."
      ]
    },
    {
      "attachments": {},
      "cell_type": "markdown",
      "id": "actual-edinburgh",
      "metadata": {},
      "source": [
        "#### Ejercicio 09. ¿Son los precios promedios de \"Valdemorillo\" y \"Galapagar\" los mismos? (★★☆)\n",
        "\n",
        "Imprime ambos promedios y escribe una conclusión sobre ellos."
      ]
    },
    {
      "cell_type": "code",
      "execution_count": 6,
      "id": "numeric-commerce",
      "metadata": {},
      "outputs": [
        {
          "name": "stdout",
          "output_type": "stream",
          "text": [
            "Precio promedio en Valdemorillo: 363860.2931034483 euros\n",
            "Precio promedio en Galapagar: 360063.20238095237 euros\n"
          ]
        }
      ],
      "source": [
        "# TODO\n",
        "#Comprobamos el precio de Valdemorrillo y hacemos su media\n",
        "valdemorillo = ds[ds['level5'] == 'Valdemorillo'] \n",
        "precio_promedio_valdemorillo = valdemorillo['price'].mean()\n",
        "\n",
        "#Comprobamos el precio de Galapagar y hacemos su media\n",
        "galapagar = ds[ds['level5'] == 'Galapagar'] \n",
        "precio_promedio_galapagar = galapagar['price'].mean()\n",
        "\n",
        "#Imprimimos el resultado\n",
        "print(\"Precio promedio en Valdemorillo:\", precio_promedio_valdemorillo, \"euros\")\n",
        "print(\"Precio promedio en Galapagar:\", precio_promedio_galapagar, \"euros\")"
      ]
    },
    {
      "attachments": {},
      "cell_type": "markdown",
      "id": "lonely-article",
      "metadata": {},
      "source": [
        "#### Ejercicio 10. ¿Son los promedios de precio por metro cuadrado (precio/m2) de \"Valdemorillo\" y \"Galapagar\" los mismos? (★★☆)\n",
        "\n",
        "Imprime ambos promedios de precio por metro cuadrado y escribe una conclusión sobre ellos.\n",
        "\n",
        "Pista: Crea una nueva columna llamada `pps` (*price per square* o precio por metro cuadrado) y luego analiza los valores."
      ]
    },
    {
      "cell_type": "code",
      "execution_count": 7,
      "id": "hourly-globe",
      "metadata": {},
      "outputs": [
        {
          "name": "stdout",
          "output_type": "stream",
          "text": [
            "Precio promedio por metro cuadrado en Valdemorillo: 1317.9502109024986 euros\n",
            "Precio promedio por metro cuadrado en Galapagar: 1606.3240303094024 euros\n"
          ]
        }
      ],
      "source": [
        "# TODO\n",
        "#Creamos una nueva colunma que calcula el metro cuadrado\n",
        "ds['pps'] = ds['price']/ds['surface']\n",
        "\n",
        "#Comprobamos el precio por merto cuadrado de Valdemorillo\n",
        "valdemorillo = ds[ds['level5'] == 'Valdemorillo'] \n",
        "promedio_m2_valdemorillo = valdemorillo['pps'].mean() #Hacemos su media\n",
        "print(\"Precio promedio por metro cuadrado en Valdemorillo:\", promedio_m2_valdemorillo, \"euros\")#Imprmimos el resultado\n",
        "\n",
        "#Comprobamos el precio por metro cuadrado de Galapagar\n",
        "galapagar = ds[ds['level5'] == 'Galapagar'] \n",
        "promedio_m2_galapagar = galapagar['pps'].mean()#Hacemos su media\n",
        "print(\"Precio promedio por metro cuadrado en Galapagar:\", promedio_m2_galapagar, \"euros\")#Imprimimos su resultado"
      ]
    },
    {
      "attachments": {},
      "cell_type": "markdown",
      "id": "pleasant-invite",
      "metadata": {},
      "source": [
        "#### Ejercicio 11. Analiza la relación entre la superficie y el precio de las casas. (★★☆)\n",
        "\n",
        "Pista: Puedes hacer un `scatter plot` y luego escribir una conclusión al respecto."
      ]
    },
    {
      "cell_type": "code",
      "execution_count": 21,
      "id": "common-drilling",
      "metadata": {},
      "outputs": [
        {
          "data": {
            "image/png": "[encoded data removed]",
            "text/plain": [
              "<Figure size 640x480 with 1 Axes>"
            ]
          },
          "metadata": {},
          "output_type": "display_data"
        }
      ],
      "source": [
        "# TODO: Código\n",
        "# Analizamos la relacion entre la superficie y el precio de las casas en una tabla\n",
        "plt.scatter(ds['price'], ds['surface'], alpha=0.5, color='blue')\n",
        "# Añadimos una línea de tendencia\n",
        "x = ds['price']\n",
        "y = ds['surface']\n",
        "# Ajustamos una línea de regresión lineal\n",
        "m, b = np.polyfit(x, y, 1)\n",
        "plt.plot(x, m*x + b, color='red', label='Línea de tendencia')\n",
        "plt.legend()\n",
        "# Añadimos etiquetas y título\n",
        "plt.xlabel('Precio (€)')\n",
        "plt.ylabel('Superficie (m²)')\n",
        "plt.title('Relación entre el precio y la superficie de las casas')\n",
        "plt.show()"
      ]
    },
    {
      "attachments": {},
      "cell_type": "markdown",
      "id": "ahead-liquid",
      "metadata": {},
      "source": [
        "**TODO: Markdown**. Para escribir aquí, haz doble clic en esta celda, elimina este contenido y coloca lo que quieras escribir. Luego ejecuta la celda."
      ]
    },
    {
      "attachments": {},
      "cell_type": "markdown",
      "id": "coordinate-sunrise",
      "metadata": {},
      "source": [
        "#### Ejercicio 12. ¿Cuántas agencia de bienes raíces contiene el dataset? (★★☆)\n",
        "\n",
        "Imprime el valor obtenido."
      ]
    },
    {
      "cell_type": "code",
      "execution_count": 20,
      "id": "valid-honolulu",
      "metadata": {},
      "outputs": [
        {
          "name": "stdout",
          "output_type": "stream",
          "text": [
            "Numero de agencias de biene raíces: 1822\n"
          ]
        }
      ],
      "source": [
        "# TODO\n",
        "# Comprobamos cuantas agencias de bienes raices tiene\n",
        "agencia_bienes_raices = ds['realEstate_name'].unique()\n",
        "# Enumeramos todas las que tiene\n",
        "numero_agencias = len(agencia_bienes_raices)\n",
        "# Imprimimos el resultado\n",
        "print(\"Numero de agencias de biene raíces:\", numero_agencias)"
      ]
    },
    {
      "attachments": {},
      "cell_type": "markdown",
      "id": "binding-ebony",
      "metadata": {},
      "source": [
        "#### Ejercicio 13. ¿Cuál es la población (columna level5) que contiene la mayor cantidad de casas?(★★☆)\n",
        "\n",
        "Imprima la población y el número de casas."
      ]
    },
    {
      "cell_type": "code",
      "execution_count": 19,
      "id": "static-perry",
      "metadata": {},
      "outputs": [
        {
          "name": "stdout",
          "output_type": "stream",
          "text": [
            "La población con mas cantidad de casa es:  Madrid Capital\n"
          ]
        }
      ],
      "source": [
        "# TODO\n",
        "# Comprobamos cual es la poblacion con mayor cantidad\n",
        "frecuencia_población = ds['level5'].value_counts()\n",
        "poblacion_mas_casas = frecuencia_población.idxmax()\n",
        "\n",
        "# Imprimimos el resultado\n",
        "print(\"La población con mas cantidad de casa es:\", poblacion_mas_casas)"
      ]
    },
    {
      "attachments": {},
      "cell_type": "markdown",
      "id": "entire-classification",
      "metadata": {},
      "source": [
        "#### Ejercicio 14. Ahora vamos a trabajar con el \"cinturón sur\" de Madrid. Haz un subconjunto del DataFrame original que contenga las siguientes poblaciones (columna level5): \"Fuenlabrada\", \"Leganés\", \"Getafe\", \"Alcorcón\" (★★☆)\n",
        "\n",
        "Pista: Filtra el DataFrame original usando la columna `level5` y la función `isin`."
      ]
    },
    {
      "cell_type": "code",
      "execution_count": 9,
      "id": "binary-input",
      "metadata": {},
      "outputs": [
        {
          "name": "stdout",
          "output_type": "stream",
          "text": [
            "       Unnamed: 0  id_realEstates  isNew  \\\n",
            "1               2       153867863  False   \n",
            "3               4       152776331  False   \n",
            "85             86       153152077  False   \n",
            "94             95       153995577  False   \n",
            "109           110       153586414  False   \n",
            "...           ...             ...    ...   \n",
            "15275       15276       153903887  False   \n",
            "15291       15292       151697757  False   \n",
            "15305       15306       153902389  False   \n",
            "15322       15323       153871864  False   \n",
            "15325       15326       153901467  False   \n",
            "\n",
            "                                 realEstate_name  phone_realEstate  \\\n",
            "1              tecnocasa fuenlabrada ferrocarril       916358736.0   \n",
            "3              tecnocasa fuenlabrada ferrocarril       916358736.0   \n",
            "85                       sinergical inmobiliaria               NaN   \n",
            "94                               viviendas365com       911226014.0   \n",
            "109              area uno asesores inmobiliarios       912664081.0   \n",
            "...                                          ...               ...   \n",
            "15275  aliseda servicios de gestion inmobiliaria       911368198.0   \n",
            "15291                                    unipiso       912788631.0   \n",
            "15305                             jadein ferrero       914871639.0   \n",
            "15322                          gestion comercial       911220662.0   \n",
            "15325                              montehogar 68       911790675.0   \n",
            "\n",
            "                                            url_inmueble  rooms  bathrooms  \\\n",
            "1      https://www.fotocasa.es/es/comprar/vivienda/ma...    3.0        1.0   \n",
            "3      https://www.fotocasa.es/es/comprar/vivienda/ma...    3.0        1.0   \n",
            "85     https://www.fotocasa.es/es/comprar/vivienda/le...    1.0        1.0   \n",
            "94     https://www.fotocasa.es/es/comprar/vivienda/le...    3.0        2.0   \n",
            "109    https://www.fotocasa.es/es/comprar/vivienda/ma...    3.0        3.0   \n",
            "...                                                  ...    ...        ...   \n",
            "15275  https://www.fotocasa.es/es/comprar/vivienda/al...    3.0        1.0   \n",
            "15291  https://www.fotocasa.es/es/comprar/vivienda/al...    3.0        2.0   \n",
            "15305  https://www.fotocasa.es/es/comprar/vivienda/ma...    3.0        2.0   \n",
            "15322  https://www.fotocasa.es/es/comprar/vivienda/ma...    3.0        1.0   \n",
            "15325  https://www.fotocasa.es/es/comprar/vivienda/ma...    2.0        2.0   \n",
            "\n",
            "       surface   price  ... level5Id level6Id level7Id level8Id accuracy  \\\n",
            "1          NaN   89000  ...        0        0        0        0        1   \n",
            "3         86.0   89000  ...        0        0        0        0        0   \n",
            "85        50.0  107000  ...        0        0        0        0        1   \n",
            "94       120.0  320000  ...        0        0        0        0        0   \n",
            "109      142.0  425000  ...        0        0        0        0        0   \n",
            "...        ...     ...  ...      ...      ...      ...      ...      ...   \n",
            "15275     78.0  138000  ...        0        0        0        0        1   \n",
            "15291    110.0  279000  ...        0        0        0        0        0   \n",
            "15305     85.0  170000  ...        0        0        0        0        0   \n",
            "15322     91.0  112000  ...        0        0        0        0        0   \n",
            "15325     99.0  215000  ...        0        0        0        0        1   \n",
            "\n",
            "               latitude          longitude zipCode customZone          pps  \n",
            "1              40,28674           -3,79351     NaN        NaN          NaN  \n",
            "3      40,2853785786438  -3,79508142135624     NaN        NaN  1034.883721  \n",
            "85             40,35059           -3,82693     NaN        NaN  2140.000000  \n",
            "94             40,31933           -3,77574     NaN        NaN  2666.666667  \n",
            "109          40,3313411         -3,8313868     NaN        NaN  2992.957746  \n",
            "...                 ...                ...     ...        ...          ...  \n",
            "15275          40,31381           -3,83733     NaN        NaN  1769.230769  \n",
            "15291        40,3259051           -3,76318     NaN        NaN  2536.363636  \n",
            "15305        40,2882193         -3,8098617     NaN        NaN  2000.000000  \n",
            "15322          40,28282           -3,78892     NaN        NaN  1230.769231  \n",
            "15325          40,28062           -3,79869     NaN        NaN  2171.717172  \n",
            "\n",
            "[907 rows x 38 columns]\n"
          ]
        }
      ],
      "source": [
        "# TODO\n",
        "#Comprobamos y hacemos un subconjunto que contenga \"Fuenlabrada, Leganes , Getafe y Alcorcon\"\n",
        "cinturon_sur = ds['level5'].isin([\"Fuenlabrada\", \"Leganés\",\"Getafe\", \"Alcorcón\" ])\n",
        "# Imprimimos el resultado\n",
        "print(ds[cinturon_sur])"
      ]
    },
    {
      "attachments": {},
      "cell_type": "markdown",
      "id": "severe-fisher",
      "metadata": {},
      "source": [
        "#### Ejercicio 15. Traza un gráfico de barras de la mediana de los precios y explica lo que observas (debes usar el subconjunto obtenido del Ejercicio 14) (★★★)\n",
        "\n",
        "Imprima un gráfico de barras de la mediana de precios y escriba en la celda Markdown un breve análisis sobre el gráfico."
      ]
    },
    {
      "cell_type": "code",
      "execution_count": 20,
      "id": "lyric-bunch",
      "metadata": {},
      "outputs": [
        {
          "data": {
            "image/png": "[encoded data removed]",
            "text/plain": [
              "<Figure size 640x480 with 1 Axes>"
            ]
          },
          "metadata": {},
          "output_type": "display_data"
        }
      ],
      "source": [
        "# TODO: Code\n",
        "# Imprimimos un grafico de barras con los precios del ejercicio anteior\n",
        "mediana_precio_sur = ds[cinturon_sur]['price'].median()\n",
        "plt.bar('Madrid Cinturón Sur', mediana_precio_sur)\n",
        "plt.xticks(rotation=45)\n",
        "plt.xlabel('Población')\n",
        "plt.ylabel ('Precio')\n",
        "plt.title('Mediana de los precio - Madrid Sur')\n",
        "plt.grid()\n",
        "plt.show()"
      ]
    },
    {
      "attachments": {},
      "cell_type": "markdown",
      "id": "sublime-newspaper",
      "metadata": {},
      "source": [
        "**TODO:\n",
        "Los precios son bastante elevados en Madrid Cinturon Sur, porque son demasiadas ciudades. Con la mediana no podemos hacer un grafico porque el precio nos sigue siendo exponencial al ser tantas ciudades. Markdown**."
      ]
    },
    {
      "attachments": {},
      "cell_type": "markdown",
      "id": "speaking-diamond",
      "metadata": {},
      "source": [
        "#### Ejercicio 16. Calcula la media y la varianza de muestra para las siguientes variables: precio, habitaciones, superficie y baños (debes usar el subconjunto obtenido del Ejercicio 14) (★★★)\n",
        "\n",
        "Imprime ambos valores por cada variable."
      ]
    },
    {
      "cell_type": "code",
      "execution_count": 10,
      "id": "random-feeling",
      "metadata": {},
      "outputs": [
        {
          "name": "stdout",
          "output_type": "stream",
          "text": [
            "Media de precios: 223094.48\n",
            "Costo: 14921367508.05\n",
            "Media de habitaciones: 3.02\n",
            "Costo de habitaciones: 0.72\n",
            "Media de superficie: 111.75\n",
            "Costo de superficie: 4263.05\n",
            "Media de baños: 1.63\n",
            "Costo de baños: 0.57\n"
          ]
        }
      ],
      "source": [
        "# TODO\n",
        "#Creamos una nueva manera mas facil de llamarlo\n",
        "ds_sur = ds[cinturon_sur]\n",
        "\n",
        "# Miramos y imprimimos la media de precios del cinturon sur\n",
        "promedio_precio = ds_sur['price'].mean()\n",
        "print(\"Media de precios:\",round(promedio_precio,2))\n",
        "\n",
        "# Miramos y imprimimos el costo de los precios del cinturon sur\n",
        "costo = ds_sur['price'].var()\n",
        "print(\"Costo:\", round(costo, 2))\n",
        "\n",
        "# Miramos y imprimimos la media del los precios de las habitaciones del cinturon sur\n",
        "promedio_habitaciones = ds_sur['rooms'].mean()\n",
        "print(\"Media de habitaciones:\",round(promedio_habitaciones, 2))\n",
        "\n",
        "# Miramos y imprimimos el costo de los precios de las habitaciones del cinturon sur\n",
        "costo_habitaciones = ds_sur['rooms'].var()\n",
        "print(\"Costo de habitaciones:\", round(costo_habitaciones, 2))\n",
        "\n",
        "# Miramos y Imprimimos la media de la superficie de las habitaciones del cinturon sur\n",
        "promedio_superficie = ds_sur['surface'].mean()\n",
        "print(\"Media de superficie:\",round(promedio_superficie, 2))\n",
        "\n",
        "# Miramos y Imprimios el costo de la superficie de las habitaciones del cinturon sur\n",
        "costo_superficie = ds_sur['surface'].var()\n",
        "print(\"Costo de superficie:\", round(costo_superficie, 2))\n",
        "\n",
        "# Miramos y Imprimimos la media de los baños de l cinturon sur\n",
        "promedio_banos = ds_sur['bathrooms'].mean()\n",
        "print(\"Media de baños:\",round(promedio_banos, 2))\n",
        "\n",
        "# Miramos y Imprimimos el costo de los baños del cinturon sur\n",
        "costo_banos = ds_sur['bathrooms'].var()\n",
        "print(\"Costo de baños:\", round(costo_banos, 2))"
      ]
    },
    {
      "attachments": {},
      "cell_type": "markdown",
      "id": "revolutionary-matrix",
      "metadata": {},
      "source": [
        "#### Ejercicio 17. ¿Cuál es la casa más cara de cada población? Debes usar el subset obtenido en la pregunta 14 (★★☆)\n",
        "\n",
        "Imprime tanto la dirección como el precio de la casa seleccionada de cada población. Puedes imprimir un DataFrame o una sola línea para cada población."
      ]
    },
    {
      "cell_type": "code",
      "execution_count": 11,
      "id": "fifteen-browse",
      "metadata": {},
      "outputs": [
        {
          "name": "stdout",
          "output_type": "stream",
          "text": [
            "La casa mas cara de Fuenlabrada esta en Calle de Paulo Freire, 5, Fuenlabrada y su precio es 490000 euros.\n",
            "La casa mas cara de Leganés esta en Avenida Reina Sofía, Leganés y su precio es 650000 euros.\n",
            "La casa mas cara de Getafe esta en Getafe y su precio es 1050000 euros.\n",
            "La casa mas cara de Alcorcon esta en Alcorcón y su precio es 950000 euros.\n"
          ]
        }
      ],
      "source": [
        "# TODO\n",
        "#Comprobamos y Imprimimos cual es la casa mas cara de Fuelabarada\n",
        "casas_fuenlabrada = ds_sur[ds_sur['level5'] == 'Fuenlabrada']\n",
        "casa_mas_cara_fuenlabrada = casas_fuenlabrada.loc[casas_fuenlabrada['price'].idxmax()]\n",
        "print(\"La casa mas cara de Fuenlabrada esta en\", casa_mas_cara_fuenlabrada['address'], \"y su precio es\", casa_mas_cara_fuenlabrada['price'], \"euros.\")\n",
        "\n",
        "#Comprobamos y Imprimimos cual es la casa mas cara de Leganes\n",
        "casas_leganes = ds_sur[ds_sur['level5'] == 'Leganés']\n",
        "casa_mas_cara_leganes = casas_leganes.loc[casas_leganes['price'].idxmax()]\n",
        "print(\"La casa mas cara de Leganés esta en\", casa_mas_cara_leganes['address'], \"y su precio es\", casa_mas_cara_leganes['price'], \"euros.\")\n",
        "\n",
        "#Comprobamos y Imprimimos cual es la casa mas cara de Getafe\n",
        "casas_getafe = ds_sur[ds_sur['level5'] == 'Getafe']\n",
        "casa_mas_cara_getafe = casas_getafe.loc[casas_getafe['price'].idxmax()]\n",
        "print(\"La casa mas cara de Getafe esta en\", casa_mas_cara_getafe['address'], \"y su precio es\", casa_mas_cara_getafe['price'], \"euros.\")\n",
        "\n",
        "#Comprobamos y Imprimimos cual es la casa mas cara de Alcorcon\n",
        "casas_alcorcon = ds_sur[ds_sur['level5'] == 'Alcorcón']\n",
        "casa_mas_cara_alcorcon = casas_alcorcon.loc[casas_alcorcon['price'].idxmax()]\n",
        "print(\"La casa mas cara de Alcorcon esta en\", casa_mas_cara_alcorcon['address'], \"y su precio es\", casa_mas_cara_alcorcon['price'], \"euros.\")"
      ]
    },
    {
      "attachments": {},
      "cell_type": "markdown",
      "id": "activated-knight",
      "metadata": {},
      "source": [
        "#### Ejercicio 18. Normaliza la variable de precios para cada población y traza los 4 histogramas en el mismo gráfico (debes usar el subconjunto obtenido en la pregunta 14) (★★★)\n",
        "\n",
        "Para el método de normalización, puedes usar el que consideres adecuado, no hay una única respuesta correcta para esta pregunta. Imprime el gráfico y escribe en la celda de Markdown un breve análisis sobre el gráfico.\n",
        "\n",
        "Pista: Puedes ayudarte revisando la demostración multihist de Matplotlib."
      ]
    },
    {
      "cell_type": "code",
      "execution_count": 23,
      "id": "civic-meditation",
      "metadata": {},
      "outputs": [
        {
          "data": {
            "text/plain": [
              "<matplotlib.legend.Legend at 0x76b40db41e10>"
            ]
          },
          "execution_count": 23,
          "metadata": {},
          "output_type": "execute_result"
        },
        {
          "data": {
            "image/png": "[encoded data removed]",
            "text/plain": [
              "<Figure size 1000x600 with 1 Axes>"
            ]
          },
          "metadata": {},
          "output_type": "display_data"
        }
      ],
      "source": [
        "# TODO\n",
        "#Utilizamos scaler para crear 4 nuevas variables\n",
        "scaler = MinMaxScaler()\n",
        "precio_fuenlabrada = casas_fuenlabrada[['price']]\n",
        "precio_fuenlabrada_normalizado = scaler.fit_transform(precio_fuenlabrada)\n",
        "\n",
        "precio_leganes = casas_leganes[['price']]\n",
        "precio_leganes_normalizado = scaler.fit_transform(precio_leganes)\n",
        "\n",
        "precio_getafe = casas_getafe[['price']]\n",
        "precio_getafe_normalizado = scaler.fit_transform(precio_getafe)\n",
        "\n",
        "precio_alcorcon = casas_alcorcon[['price']]\n",
        "precio_alcorcon_normalizado = scaler.fit_transform(precio_alcorcon)\n",
        "\n",
        "# Creamos el grafico segun los datos que tenemos\n",
        "plt.figure(figsize=(10,6))\n",
        "\n",
        "plt.hist(precio_fuenlabrada_normalizado, bins=20, alpha=0.5, label='Fuenlabrada')\n",
        "plt.hist(precio_leganes_normalizado, bins=20, alpha=0.5, label='Leganés')\n",
        "plt.hist(precio_getafe_normalizado, bins=20, alpha=0.5, label='Getafe')\n",
        "plt.hist(precio_alcorcon_normalizado, bins=20, alpha=0.5, label='Alcorcón')\n",
        "\n",
        "plt.xlabel('Precio de las viviendas')\n",
        "plt.ylabel('Frecuencia')\n",
        "plt.title('Precios de las viviendas en Madrid Sur')\n",
        "plt.legend()"
      ]
    },
    {
      "attachments": {},
      "cell_type": "markdown",
      "id": "precise-heavy",
      "metadata": {},
      "source": [
        "**TODO: Markdown**. Para escribir aquí, haz doble clic en esta celda, elimina este contenido y coloca lo que quieras escribir. Luego ejecuta la celda."
      ]
    },
    {
      "attachments": {},
      "cell_type": "markdown",
      "id": "patent-jonathan",
      "metadata": {},
      "source": [
        "#### Ejercicio 19. ¿Qué puedes decir sobre el precio por metro cuadrado (precio/m2) entre los municipios de 'Getafe' y 'Alcorcón'? Debes usar el subconjunto obtenido en la pregunta 14 (★★☆)\n",
        "\n",
        "Pista: Crea una nueva columna llamada `pps` (price per square en inglés) y luego analiza los valores"
      ]
    },
    {
      "cell_type": "code",
      "execution_count": null,
      "id": "initial-liverpool",
      "metadata": {},
      "outputs": [
        {
          "name": "stdout",
          "output_type": "stream",
          "text": [
            "Precio medio por metro cuadrado en Getafe: 2066.31\n",
            "Precio medio por metro cuadrado en Alcorcón: 2239.3\n"
          ]
        }
      ],
      "source": [
        "# TODO\n",
        "# Creamos una copia del DataFrame para evitar SettingWithCopyWarning\n",
        "ds_sur = ds_sur.copy() \n",
        "# Convertimos la columna 'price' a float\n",
        "ds_sur['price'] = ds_sur['price'].astype(float) \n",
        "# Convertimos la columna 'surface' a float\n",
        "ds_sur['surface'] = ds_sur['surface'].astype(float)\n",
        "# Creamos la nueva columna 'pps' (precio por metro cuadrado)\n",
        "# Aseguramos que no haya división por cero\n",
        "ds_sur = ds_sur[ds_sur['surface'] > 0] # Filtramos filas con superficie cero o negativa\n",
        "\n",
        "\n",
        "# Analizamos y imprimimos el precio mediopor metro cuadrado de Getafe\n",
        "getafe = ds_sur[ds_sur['level5'] == 'Getafe'] \n",
        "promedio_m2_getafe = getafe['pps'].mean()\n",
        "print(\"Precio medio por metro cuadrado en Getafe:\", round(promedio_m2_getafe, 2))\n",
        "\n",
        "# Analizamos y imprimimos el precio mediopor metro cuadrado de Alcorcon\n",
        "alcorcon = ds_sur[ds_sur['level5'] == 'Alcorcón'] \n",
        "promedio_m2_alcorcon = alcorcon['pps'].mean()\n",
        "print(\"Precio medio por metro cuadrado en Alcorcón:\", round(promedio_m2_alcorcon, 2))"
      ]
    },
    {
      "attachments": {},
      "cell_type": "markdown",
      "id": "enhanced-moscow",
      "metadata": {},
      "source": [
        "#### Ejercicio 20. Realiza el mismo gráfico para 4 poblaciones diferentes (columna level5) y colócalos en el mismo gráfico. Debes usar el subconjunto obtenido en la pregunta 14 (★★☆) \n",
        "Pista: Haz un diagrama de dispersión de cada población usando subgráficos (subplots)."
      ]
    },
    {
      "cell_type": "code",
      "execution_count": 16,
      "id": "accepting-airfare",
      "metadata": {},
      "outputs": [
        {
          "data": {
            "image/png": "[encoded data removed]",
            "text/plain": [
              "<Figure size 1400x800 with 4 Axes>"
            ]
          },
          "metadata": {},
          "output_type": "display_data"
        },
        {
          "data": {
            "text/plain": [
              "<Figure size 640x480 with 0 Axes>"
            ]
          },
          "metadata": {},
          "output_type": "display_data"
        }
      ],
      "source": [
        "# TODO\n",
        "# Asignamos variables a los graficos\n",
        "precio_fuenlabrada = casas_fuenlabrada['price']\n",
        "precio_leganes = casas_leganes['price']\n",
        "precio_getafe = casas_getafe['price']\n",
        "precio_alcorcon = casas_alcorcon['price']\n",
        "# Creamos un grafico de 4 subgráficos\n",
        "# Creamos una figura y un conjunto de subgráficos\n",
        "fig, axs = plt.subplots(2, 2, figsize=(14, 8))\n",
        "\n",
        "# Les ponemos color\n",
        "axs[0, 0].scatter(precio_fuenlabrada, casas_fuenlabrada['surface'])\n",
        "axs[0, 0].set_title('Precio vs superficie Fuenlabrada')\n",
        "axs[0, 1].scatter(precio_leganes, casas_leganes['surface'], color = 'tab:orange')\n",
        "axs[0, 1].set_title('Precio vs superficie Leganés')\n",
        "axs[1, 0].scatter(precio_getafe, casas_getafe['surface'], color = 'tab:green')\n",
        "axs[1, 0].set_title('Precio vs superficie Getafe')\n",
        "axs[1, 1].scatter(precio_alcorcon, casas_alcorcon['surface'], color = 'tab:red')\n",
        "axs[1, 1].set_title('Precio vs superficie Alcorcón')\n",
        "\n",
        "#Creamos el grafico\n",
        "plt.show()\n",
        "plt.tight_layout()"
      ]
    },
    {
      "attachments": {},
      "cell_type": "markdown",
      "id": "blocked-effects",
      "metadata": {},
      "source": [
        "#### Ejercicio 21. Realiza un trazado de las coordenadas (columnas latitud y longitud) del cinturón sur de Madrid por color de cada población (debes usar el subconjunto obtenido del Ejercicio 14) (★★★★)\n",
        "\n",
        "Ejecuta la siguiente celda y luego comienza a codear en la siguiente. Debes implementar un código simple que transforme las columnas de coordenadas en un diccionario de Python (agrega más información si es necesario) y agrégala al mapa."
      ]
    },
    {
      "cell_type": "code",
      "execution_count": 17,
      "id": "headed-privacy",
      "metadata": {},
      "outputs": [
        {
          "data": {
            "application/vnd.jupyter.widget-view+json": {
              "model_id": "c61c031aafd24361b61499e5b17afa84",
              "version_major": 2,
              "version_minor": 0
            },
            "text/plain": [
              "Map(center=[40.35, -3.8], controls=(ZoomControl(options=['position', 'zoom_in_text', 'zoom_in_title', 'zoom_ou…"
            ]
          },
          "execution_count": 17,
          "metadata": {},
          "output_type": "execute_result"
        }
      ],
      "source": [
        "from ipyleaflet import Map, basemaps, Marker\n",
        "\n",
        "# Mapa centrado en Madrid\n",
        "map = Map(center = (40.35, -3.8), zoom = 11.5, min_zoom = 1, max_zoom = 20, \n",
        "    basemap=basemaps.OpenStreetMap.Mapnik)\n",
        "map"
      ]
    },
    {
      "cell_type": "code",
      "execution_count": 18,
      "id": "present-mistress",
      "metadata": {},
      "outputs": [
        {
          "data": {
            "application/vnd.jupyter.widget-view+json": {
              "model_id": "c61c031aafd24361b61499e5b17afa84",
              "version_major": 2,
              "version_minor": 0
            },
            "text/plain": [
              "Map(bottom=395835.0, center=[40.35, -3.8], controls=(ZoomControl(options=['position', 'zoom_in_text', 'zoom_in…"
            ]
          },
          "execution_count": 18,
          "metadata": {},
          "output_type": "execute_result"
        }
      ],
      "source": [
        "## Aquí: traza la coordenadas de los estados\n",
        "\n",
        "## PON TU CÓDIGO AQUÍ:\n",
        "dic_coordenadas = ds_sur[['latitude', 'longitude']].dropna().to_dict('index')\n",
        "\n",
        "for etiqueta, coordenadas in dic_coordenadas.items():\n",
        "    latitude = coordenadas['latitude']\n",
        "    longitude = coordenadas['longitude']\n",
        "    marker = Marker(location=(latitude, longitude), title=str(etiqueta))\n",
        "    map.add_layer(marker)\n",
        "    \n",
        "map\n"
      ]
    }
  ],
  "metadata": {
    "kernelspec": {
      "display_name": "Python 3",
      "language": "python",
      "name": "python3"
    },
    "language_info": {
      "codemirror_mode": {
        "name": "ipython",
        "version": 3
      },
      "file_extension": ".py",
      "mimetype": "text/x-python",
      "name": "python",
      "nbconvert_exporter": "python",
      "pygments_lexer": "ipython3",
      "version": "3.11.4"
    }
  },
  "nbformat": 4,
  "nbformat_minor": 5
}
